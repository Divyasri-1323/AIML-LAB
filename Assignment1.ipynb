{
  "nbformat": 4,
  "nbformat_minor": 0,
  "metadata": {
    "colab": {
      "provenance": [],
      "authorship_tag": "ABX9TyM+Goc5XndMdpUADTXI+sQD",
      "include_colab_link": true
    },
    "kernelspec": {
      "name": "python3",
      "display_name": "Python 3"
    },
    "language_info": {
      "name": "python"
    }
  },
  "cells": [
    {
      "cell_type": "markdown",
      "metadata": {
        "id": "view-in-github",
        "colab_type": "text"
      },
      "source": [
        "<a href=\"https://colab.research.google.com/github/Divyasri-1323/AIML-LAB/blob/main/Assignment1.ipynb\" target=\"_parent\"><img src=\"https://colab.research.google.com/assets/colab-badge.svg\" alt=\"Open In Colab\"/></a>"
      ]
    },
    {
      "cell_type": "code",
      "execution_count": 1,
      "metadata": {
        "colab": {
          "base_uri": "https://localhost:8080/"
        },
        "id": "Lkn35_RILG7x",
        "outputId": "03436ce8-5027-4a36-dcf8-b7a695d5167b"
      },
      "outputs": [
        {
          "output_type": "stream",
          "name": "stdout",
          "text": [
            "['apple', 'banana', 'cherry']\n"
          ]
        }
      ],
      "source": [
        "import numpy as np\n",
        "fruits=[\"apple\",\"banana\",\"cherry\"]\n",
        "print(fruits)"
      ]
    },
    {
      "cell_type": "code",
      "source": [
        "import pandas as pd\n",
        "fruits=[\"apple\",\"banana\",\"cherry\"]\n",
        "print(fruits)"
      ],
      "metadata": {
        "colab": {
          "base_uri": "https://localhost:8080/"
        },
        "id": "EFqZMIaVL1qj",
        "outputId": "26919dcb-d89c-452b-b9b2-27a4343a5f43"
      },
      "execution_count": 2,
      "outputs": [
        {
          "output_type": "stream",
          "name": "stdout",
          "text": [
            "['apple', 'banana', 'cherry']\n"
          ]
        }
      ]
    },
    {
      "cell_type": "code",
      "source": [
        "import numpy as np\n",
        "numbers=np.array([1,2,3,4])\n",
        "print(numbers)"
      ],
      "metadata": {
        "colab": {
          "base_uri": "https://localhost:8080/"
        },
        "id": "f9zbhFevMCZR",
        "outputId": "c0735eb0-8ce7-4638-e46d-54478774706f"
      },
      "execution_count": 3,
      "outputs": [
        {
          "output_type": "stream",
          "name": "stdout",
          "text": [
            "[1 2 3 4]\n"
          ]
        }
      ]
    },
    {
      "cell_type": "code",
      "source": [
        "import numpy as np\n",
        "number=np.array([1,2,3])\n",
        "print(type(number))"
      ],
      "metadata": {
        "colab": {
          "base_uri": "https://localhost:8080/"
        },
        "id": "bO1e7RhANBEC",
        "outputId": "d6bad0cf-2508-4b05-ea5d-1cd7c00b2e9d"
      },
      "execution_count": 4,
      "outputs": [
        {
          "output_type": "stream",
          "name": "stdout",
          "text": [
            "<class 'numpy.ndarray'>\n"
          ]
        }
      ]
    },
    {
      "cell_type": "code",
      "source": [
        "import pandas as pd\n",
        "fruits=[\"apple\",\"banana\",\"cherry\"]\n",
        "print(type(fruits))"
      ],
      "metadata": {
        "colab": {
          "base_uri": "https://localhost:8080/"
        },
        "id": "TeTu-MdBPmSZ",
        "outputId": "30e6ac97-0137-48c4-cca4-7bd8f7b00225"
      },
      "execution_count": 5,
      "outputs": [
        {
          "output_type": "stream",
          "name": "stdout",
          "text": [
            "<class 'list'>\n"
          ]
        }
      ]
    },
    {
      "cell_type": "code",
      "source": [
        "import numpy as np\n",
        "num1=np.array([1,2,3])\n",
        "num2=np.array([4,5,6])\n",
        "print(num1*num2)\n",
        "print(num1/num2)\n",
        "print(num1**2)\n",
        "print(num2**2)"
      ],
      "metadata": {
        "colab": {
          "base_uri": "https://localhost:8080/"
        },
        "id": "CBgjue8rQf4F",
        "outputId": "5e6f5e2d-9ee4-4c46-f503-c290d6556261"
      },
      "execution_count": 9,
      "outputs": [
        {
          "output_type": "stream",
          "name": "stdout",
          "text": [
            "[ 4 10 18]\n",
            "[0.25 0.4  0.5 ]\n",
            "[1 4 9]\n",
            "[16 25 36]\n"
          ]
        }
      ]
    },
    {
      "cell_type": "code",
      "source": [
        "import numpy as np\n",
        "num1=np.array([1,2,3])\n",
        "num2=np.array([4,5,6])\n",
        "result=np.add(num1,num2)\n",
        "output_text=f\"Addition of two:{result}\"\n",
        "print(output_text)"
      ],
      "metadata": {
        "colab": {
          "base_uri": "https://localhost:8080/"
        },
        "id": "qkML9AZ3VFGG",
        "outputId": "fac5c682-df3b-49e2-cc8c-d9a68271757f"
      },
      "execution_count": 14,
      "outputs": [
        {
          "output_type": "stream",
          "name": "stdout",
          "text": [
            "Addition of two:[5 7 9]\n"
          ]
        }
      ]
    },
    {
      "cell_type": "code",
      "source": [
        "import numpy as np\n",
        "my_list=[1,2,3,4,5]\n",
        "my_array=np.array(my_list)\n",
        "sin_x = np.sin(my_array)\n",
        "print(f\"sin({my_array}) = {sin_x}\")\n",
        "log_x = np.log(my_array)\n",
        "print(f\"log({my_array}) = {log_x}\")\n",
        "log2_x = np.log2(my_array)\n",
        "print(f\"log2({my_array}) = {log2_x}\")\n",
        "exp_x = np.exp(my_array)\n",
        "print(f\"exp({my_array}) = {exp_x}\")"
      ],
      "metadata": {
        "colab": {
          "base_uri": "https://localhost:8080/"
        },
        "id": "JEljM7KbYOLR",
        "outputId": "f3cf8865-b4d5-4714-e649-6b406bcbf35f"
      },
      "execution_count": 17,
      "outputs": [
        {
          "output_type": "stream",
          "name": "stdout",
          "text": [
            "sin([1 2 3 4 5]) = [ 0.84147098  0.90929743  0.14112001 -0.7568025  -0.95892427]\n",
            "log([1 2 3 4 5]) = [0.         0.69314718 1.09861229 1.38629436 1.60943791]\n",
            "log2([1 2 3 4 5]) = [0.         1.         1.5849625  2.         2.32192809]\n",
            "exp([1 2 3 4 5]) = [  2.71828183   7.3890561   20.08553692  54.59815003 148.4131591 ]\n"
          ]
        }
      ]
    }
  ]
}