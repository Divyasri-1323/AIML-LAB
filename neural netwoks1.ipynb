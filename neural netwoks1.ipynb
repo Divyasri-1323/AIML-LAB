{
  "nbformat": 4,
  "nbformat_minor": 0,
  "metadata": {
    "colab": {
      "provenance": [],
      "authorship_tag": "ABX9TyNxCwBMI/f4ZM2qId7jlzMk",
      "include_colab_link": true
    },
    "kernelspec": {
      "name": "python3",
      "display_name": "Python 3"
    },
    "language_info": {
      "name": "python"
    }
  },
  "cells": [
    {
      "cell_type": "markdown",
      "metadata": {
        "id": "view-in-github",
        "colab_type": "text"
      },
      "source": [
        "<a href=\"https://colab.research.google.com/github/Divyasri-1323/AIML-LAB/blob/main/neural%20netwoks1.ipynb\" target=\"_parent\"><img src=\"https://colab.research.google.com/assets/colab-badge.svg\" alt=\"Open In Colab\"/></a>"
      ]
    },
    {
      "cell_type": "code",
      "execution_count": 8,
      "metadata": {
        "colab": {
          "base_uri": "https://localhost:8080/"
        },
        "id": "HjjOrIdSsGN7",
        "outputId": "2975e2d9-62eb-4c34-879b-44f74d44b578"
      },
      "outputs": [
        {
          "output_type": "stream",
          "name": "stdout",
          "text": [
            "4.3\n"
          ]
        }
      ],
      "source": [
        "inputs=[1,2,3]\n",
        "weight=[0.2,0.3,0.5]\n",
        "bias=2\n",
        "\n",
        "output = inputs[0]*weight[0]+inputs[1]*weight[1]+inputs[2]*weight[2]+bias\n",
        "print(output)"
      ]
    },
    {
      "cell_type": "code",
      "source": [
        "inputs=[0.4,0.3,1,0.8]\n",
        "weights1=[0.3,0.2,0.1,0.4]\n",
        "weights2=[0.4,0.1,-0.1,0.2]\n",
        "weights3=[0.2,0.3,0.4,0.6]\n",
        "bias1=0.5\n",
        "bias2=0.2\n",
        "bias3=0.6\n",
        "\n",
        "output=[inputs[0]*weights1[0]+inputs[1]*weights1[1]+inputs[2]*weights1[2]+inputs[3]*weights1[3]+bias1,\n",
        "        inputs[0]*weights2[0]+inputs[1]*weights2[1]+inputs[2]*weights2[2]+inputs[3]*weights2[3]+bias2,\n",
        "        inputs[0]*weights3[0]+inputs[1]*weights3[1]+inputs[2]*weights3[2]+inputs[3]*weights3[3]+bias3]\n",
        "print(output)"
      ],
      "metadata": {
        "colab": {
          "base_uri": "https://localhost:8080/"
        },
        "id": "i5fr4r4XvbaB",
        "outputId": "8a7a4c75-4a30-4f94-ee5c-00ec9bd92d31"
      },
      "execution_count": 15,
      "outputs": [
        {
          "output_type": "stream",
          "name": "stdout",
          "text": [
            "[1.1, 0.45000000000000007, 1.65]\n"
          ]
        }
      ]
    },
    {
      "cell_type": "code",
      "source": [
        "import numpy as np\n",
        "inputs=np.array([0.4,0.3,1,0.8])\n",
        "weights=np.array([\n",
        "    [0.3,0.2,0.1,0.4],\n",
        "    [0.4,0.1,-0.1,0.2],\n",
        "    [0.2,0.3,0.4,0.6]\n",
        "])\n",
        "bias=np.array([0.5,0.2,0.6])\n",
        "output=np.dot(weights,inputs)+bias\n",
        "print(output)"
      ],
      "metadata": {
        "colab": {
          "base_uri": "https://localhost:8080/"
        },
        "id": "uV-_RQ0Y02Hl",
        "outputId": "c376b75e-53d6-4ea5-8f0e-b7e4dbcffc0e"
      },
      "execution_count": 17,
      "outputs": [
        {
          "output_type": "stream",
          "name": "stdout",
          "text": [
            "[1.1  0.45 1.65]\n"
          ]
        }
      ]
    },
    {
      "cell_type": "code",
      "source": [
        "import numpy as np\n",
        "def relu(x):\n",
        "    return np.maximum(0,x)\n",
        "inputs=np.array([0.4,0.3,1,0.8])\n",
        "weights=np.array([\n",
        "    [0.3,0.2,0.1,0.4],\n",
        "    [0.4,0.1,-0.1,0.2],\n",
        "    [0.2,0.3,0.4,0.6]\n",
        "])\n",
        "bias=np.array([0.5,0.2,0.6])\n",
        "output=np.dot(weights,inputs)+bias\n",
        "output1=relu(output)\n",
        "print(output)\n"
      ],
      "metadata": {
        "colab": {
          "base_uri": "https://localhost:8080/"
        },
        "id": "imLoSze36nfB",
        "outputId": "da4efa91-4b64-47fb-9f54-128d38bfedb3"
      },
      "execution_count": 19,
      "outputs": [
        {
          "output_type": "stream",
          "name": "stdout",
          "text": [
            "[1.1  0.45 1.65]\n"
          ]
        }
      ]
    },
    {
      "cell_type": "code",
      "source": [
        "import numpy as np\n",
        "def sigmoid(x):\n",
        "  return 1 / (1 + np.exp(-x))\n",
        "def relu(x):\n",
        "    return np.maximum(0,x)\n",
        "inputs=np.array([0.4,0.3,1,0.8])\n",
        "weights=np.array([\n",
        "    [0.3,0.2,0.1,0.4],\n",
        "    [0.4,0.1,-0.1,0.2],\n",
        "    [0.2,0.3,0.4,0.6]\n",
        "])\n",
        "bias=np.array([0.5,0.2,0.6])\n",
        "output=np.dot(weights,inputs)+bias\n",
        "output1= relu(output)\n",
        "print(output1)\n",
        "output2= sigmoid(output)\n",
        "print(output2)"
      ],
      "metadata": {
        "colab": {
          "base_uri": "https://localhost:8080/"
        },
        "id": "kFLBmIlqAMr2",
        "outputId": "5a23e9e4-6656-4124-9373-a12b487ff9e4"
      },
      "execution_count": 2,
      "outputs": [
        {
          "output_type": "stream",
          "name": "stdout",
          "text": [
            "[1.1  0.45 1.65]\n",
            "[0.75026011 0.61063923 0.83889105]\n"
          ]
        }
      ]
    }
  ]
}